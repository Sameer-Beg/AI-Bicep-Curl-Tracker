{
 "cells": [
  {
   "cell_type": "markdown",
   "id": "cb230ac7",
   "metadata": {},
   "source": [
    "# Installs MediaPipe, OpenCV, NumPy, and pyttsx3 for audio feedback."
   ]
  },
  {
   "cell_type": "code",
   "execution_count": 1,
   "id": "0662fc8d",
   "metadata": {
    "scrolled": true
   },
   "outputs": [
    {
     "name": "stdout",
     "output_type": "stream",
     "text": [
      "Requirement already satisfied: mediapipe==0.10.9 in c:\\users\\sameer beg\\anaconda3\\lib\\site-packages (0.10.9)\n",
      "Requirement already satisfied: opencv-python in c:\\users\\sameer beg\\anaconda3\\lib\\site-packages (4.10.0.84)\n",
      "Requirement already satisfied: numpy in c:\\users\\sameer beg\\anaconda3\\lib\\site-packages (1.26.4)\n",
      "Requirement already satisfied: pyttsx3 in c:\\users\\sameer beg\\anaconda3\\lib\\site-packages (2.99)\n",
      "Requirement already satisfied: absl-py in c:\\users\\sameer beg\\anaconda3\\lib\\site-packages (from mediapipe==0.10.9) (2.3.1)\n",
      "Requirement already satisfied: attrs>=19.1.0 in c:\\users\\sameer beg\\anaconda3\\lib\\site-packages (from mediapipe==0.10.9) (22.1.0)\n",
      "Requirement already satisfied: flatbuffers>=2.0 in c:\\users\\sameer beg\\anaconda3\\lib\\site-packages (from mediapipe==0.10.9) (25.2.10)\n",
      "Requirement already satisfied: matplotlib in c:\\users\\sameer beg\\anaconda3\\lib\\site-packages (from mediapipe==0.10.9) (3.7.1)\n",
      "Requirement already satisfied: opencv-contrib-python in c:\\users\\sameer beg\\anaconda3\\lib\\site-packages (from mediapipe==0.10.9) (4.11.0.86)\n",
      "Requirement already satisfied: protobuf<4,>=3.11 in c:\\users\\sameer beg\\anaconda3\\lib\\site-packages (from mediapipe==0.10.9) (3.20.3)\n",
      "Requirement already satisfied: sounddevice>=0.4.4 in c:\\users\\sameer beg\\anaconda3\\lib\\site-packages (from mediapipe==0.10.9) (0.5.2)\n",
      "Requirement already satisfied: comtypes in c:\\users\\sameer beg\\anaconda3\\lib\\site-packages (from pyttsx3) (1.4.11)\n",
      "Requirement already satisfied: pypiwin32 in c:\\users\\sameer beg\\anaconda3\\lib\\site-packages (from pyttsx3) (223)\n",
      "Requirement already satisfied: pywin32 in c:\\users\\sameer beg\\anaconda3\\lib\\site-packages (from pyttsx3) (305.1)\n",
      "Requirement already satisfied: CFFI>=1.0 in c:\\users\\sameer beg\\anaconda3\\lib\\site-packages (from sounddevice>=0.4.4->mediapipe==0.10.9) (1.15.1)\n",
      "Requirement already satisfied: contourpy>=1.0.1 in c:\\users\\sameer beg\\anaconda3\\lib\\site-packages (from matplotlib->mediapipe==0.10.9) (1.0.5)\n",
      "Requirement already satisfied: cycler>=0.10 in c:\\users\\sameer beg\\anaconda3\\lib\\site-packages (from matplotlib->mediapipe==0.10.9) (0.11.0)\n",
      "Requirement already satisfied: fonttools>=4.22.0 in c:\\users\\sameer beg\\anaconda3\\lib\\site-packages (from matplotlib->mediapipe==0.10.9) (4.25.0)\n",
      "Requirement already satisfied: kiwisolver>=1.0.1 in c:\\users\\sameer beg\\anaconda3\\lib\\site-packages (from matplotlib->mediapipe==0.10.9) (1.4.4)\n",
      "Requirement already satisfied: packaging>=20.0 in c:\\users\\sameer beg\\anaconda3\\lib\\site-packages (from matplotlib->mediapipe==0.10.9) (23.0)\n",
      "Requirement already satisfied: pillow>=6.2.0 in c:\\users\\sameer beg\\anaconda3\\lib\\site-packages (from matplotlib->mediapipe==0.10.9) (11.0.0)\n",
      "Requirement already satisfied: pyparsing>=2.3.1 in c:\\users\\sameer beg\\anaconda3\\lib\\site-packages (from matplotlib->mediapipe==0.10.9) (3.0.9)\n",
      "Requirement already satisfied: python-dateutil>=2.7 in c:\\users\\sameer beg\\anaconda3\\lib\\site-packages (from matplotlib->mediapipe==0.10.9) (2.8.2)\n",
      "Requirement already satisfied: pycparser in c:\\users\\sameer beg\\anaconda3\\lib\\site-packages (from CFFI>=1.0->sounddevice>=0.4.4->mediapipe==0.10.9) (2.21)\n",
      "Requirement already satisfied: six>=1.5 in c:\\users\\sameer beg\\anaconda3\\lib\\site-packages (from python-dateutil>=2.7->matplotlib->mediapipe==0.10.9) (1.16.0)\n",
      "Note: you may need to restart the kernel to use updated packages.\n"
     ]
    }
   ],
   "source": [
    "pip install mediapipe==0.10.9 opencv-python numpy pyttsx3\n"
   ]
  },
  {
   "cell_type": "markdown",
   "id": "ee35b3df",
   "metadata": {},
   "source": [
    "# Sets up all required Python libraries, Mediapipe modules, and the text-to-speech engine."
   ]
  },
  {
   "cell_type": "code",
   "execution_count": 2,
   "id": "07fe8d67",
   "metadata": {},
   "outputs": [],
   "source": [
    "import cv2\n",
    "import mediapipe as mp\n",
    "import numpy as np\n",
    "import time\n",
    "import pyttsx3\n",
    "\n",
    "# Mediapipe setup\n",
    "mp_drawing = mp.solutions.drawing_utils\n",
    "mp_pose = mp.solutions.pose\n",
    "\n",
    "# Text-to-speech engine\n",
    "engine = pyttsx3.init()\n",
    "def speak(text):\n",
    "    engine.say(text)\n",
    "    engine.runAndWait()\n"
   ]
  },
  {
   "cell_type": "markdown",
   "id": "5557d689",
   "metadata": {},
   "source": [
    "# Function to compute the joint angle between three points (used for elbow)."
   ]
  },
  {
   "cell_type": "code",
   "execution_count": 3,
   "id": "67b6cc10",
   "metadata": {},
   "outputs": [],
   "source": [
    "def calculate_angle(a, b, c):\n",
    "    a = np.array(a)\n",
    "    b = np.array(b)\n",
    "    c = np.array(c)\n",
    "\n",
    "    radians = np.arctan2(c[1]-b[1], c[0]-b[0]) - np.arctan2(a[1]-b[1], a[0]-b[0])\n",
    "    angle = np.abs(radians * 180.0 / np.pi)\n",
    "\n",
    "    if angle > 180.0:\n",
    "        angle = 360 - angle\n",
    "\n",
    "    return angle\n"
   ]
  },
  {
   "cell_type": "markdown",
   "id": "9e4958d9",
   "metadata": {},
   "source": [
    "# Push-Up Counter with Full Features"
   ]
  },
  {
   "cell_type": "code",
   "execution_count": 17,
   "id": "d600fd85",
   "metadata": {},
   "outputs": [
    {
     "name": "stdout",
     "output_type": "stream",
     "text": [
      "Rep 1\n",
      "Rep 2\n",
      "Rep 3\n",
      "Rep 4\n",
      "Rep 5\n",
      "Rep 6\n",
      "Rep 7\n"
     ]
    }
   ],
   "source": [
    "#  Left + Right Arm Curl Detection with Full Features\n",
    "cap = cv2.VideoCapture(0)\n",
    "\n",
    "# Repetition variables\n",
    "counter = 0\n",
    "stage = None\n",
    "\n",
    "# Time for FPS\n",
    "prev_time = 0\n",
    "\n",
    "with mp_pose.Pose(min_detection_confidence=0.5, min_tracking_confidence=0.5) as pose:\n",
    "    while cap.isOpened():\n",
    "        ret, frame = cap.read()\n",
    "\n",
    "        # Convert image to RGB\n",
    "        image = cv2.cvtColor(frame, cv2.COLOR_BGR2RGB)\n",
    "        image.flags.writeable = False\n",
    "        results = pose.process(image)\n",
    "\n",
    "        # Back to BGR\n",
    "        image.flags.writeable = True\n",
    "        image = cv2.cvtColor(image, cv2.COLOR_RGB2BGR)\n",
    "\n",
    "        try:\n",
    "            landmarks = results.pose_landmarks.landmark\n",
    "\n",
    "            # Left arm\n",
    "            shoulder = [landmarks[mp_pose.PoseLandmark.LEFT_SHOULDER.value].x,\n",
    "                        landmarks[mp_pose.PoseLandmark.LEFT_SHOULDER.value].y]\n",
    "            elbow = [landmarks[mp_pose.PoseLandmark.LEFT_ELBOW.value].x,\n",
    "                     landmarks[mp_pose.PoseLandmark.LEFT_ELBOW.value].y]\n",
    "            wrist = [landmarks[mp_pose.PoseLandmark.LEFT_WRIST.value].x,\n",
    "                     landmarks[mp_pose.PoseLandmark.LEFT_WRIST.value].y]\n",
    "\n",
    "            # Right arm\n",
    "            r_shoulder = [landmarks[mp_pose.PoseLandmark.RIGHT_SHOULDER.value].x,\n",
    "                          landmarks[mp_pose.PoseLandmark.RIGHT_SHOULDER.value].y]\n",
    "            r_elbow = [landmarks[mp_pose.PoseLandmark.RIGHT_ELBOW.value].x,\n",
    "                       landmarks[mp_pose.PoseLandmark.RIGHT_ELBOW.value].y]\n",
    "            r_wrist = [landmarks[mp_pose.PoseLandmark.RIGHT_WRIST.value].x,\n",
    "                       landmarks[mp_pose.PoseLandmark.RIGHT_WRIST.value].y]\n",
    "\n",
    "            # Calculate angles\n",
    "            angle = calculate_angle(shoulder, elbow, wrist)\n",
    "            right_angle = calculate_angle(r_shoulder, r_elbow, r_wrist)\n",
    "\n",
    "            # Form score\n",
    "            form_score = 100 - abs(angle - right_angle)\n",
    "            form_score = max(0, min(100, int(form_score)))\n",
    "\n",
    "            # Check visibility\n",
    "            if landmarks[mp_pose.PoseLandmark.LEFT_SHOULDER.value].visibility < 0.5:\n",
    "                cv2.putText(image, 'Body not clearly visible', (200, 30),\n",
    "                            cv2.FONT_HERSHEY_SIMPLEX, 0.8, (0, 0, 255), 2, cv2.LINE_AA)\n",
    "                continue\n",
    "\n",
    "            # Display angles\n",
    "            cv2.putText(image, str(int(angle)),\n",
    "                        tuple(np.multiply(elbow, [640, 480]).astype(int)),\n",
    "                        cv2.FONT_HERSHEY_SIMPLEX, 0.5, (255, 255, 255), 2, cv2.LINE_AA)\n",
    "\n",
    "            cv2.putText(image, f'R:{int(right_angle)}',\n",
    "                        tuple(np.multiply(r_elbow, [640, 480]).astype(int)),\n",
    "                        cv2.FONT_HERSHEY_SIMPLEX, 0.5, (0, 255, 255), 2, cv2.LINE_AA)\n",
    "\n",
    "            # Display form score\n",
    "            cv2.putText(image, f'Form: {form_score}%', (400, 60),\n",
    "                        cv2.FONT_HERSHEY_SIMPLEX, 0.7, (255, 255, 0), 2, cv2.LINE_AA)\n",
    "\n",
    "            # Curl logic\n",
    "            if angle > 160:\n",
    "                stage = \"down\"\n",
    "            if angle < 30 and stage == \"down\":\n",
    "                stage = \"up\"\n",
    "                counter += 1\n",
    "                speak(\"Rep complete\")\n",
    "                print(f\"Rep {counter}\")\n",
    "\n",
    "        except:\n",
    "            pass\n",
    "\n",
    "        # Draw counter box\n",
    "        cv2.rectangle(image, (0, 0), (250, 73), (245, 117, 16), -1)\n",
    "\n",
    "        # Display counter\n",
    "        cv2.putText(image, 'REPS', (15, 12),\n",
    "                    cv2.FONT_HERSHEY_SIMPLEX, 0.5, (0, 0, 0), 1, cv2.LINE_AA)\n",
    "        cv2.putText(image, str(counter), (10, 60),\n",
    "                    cv2.FONT_HERSHEY_SIMPLEX, 2, (255, 255, 255), 2, cv2.LINE_AA)\n",
    "\n",
    "        # Display stage\n",
    "        cv2.putText(image, 'STAGE', (100, 12),\n",
    "                    cv2.FONT_HERSHEY_SIMPLEX, 0.5, (0, 0, 0), 1, cv2.LINE_AA)\n",
    "        cv2.putText(image, stage if stage else '', (90, 60),\n",
    "                    cv2.FONT_HERSHEY_SIMPLEX, 2, (255, 255, 255), 2, cv2.LINE_AA)\n",
    "\n",
    "        # FPS calculation\n",
    "        curr_time = time.time()\n",
    "        fps = 1 / (curr_time - prev_time)\n",
    "        prev_time = curr_time\n",
    "        cv2.putText(image, f'FPS: {int(fps)}', (500, 30),\n",
    "                    cv2.FONT_HERSHEY_SIMPLEX, 1, (0, 255, 0), 2, cv2.LINE_AA)\n",
    "\n",
    "        # Draw pose\n",
    "        mp_drawing.draw_landmarks(image, results.pose_landmarks, mp_pose.POSE_CONNECTIONS,\n",
    "                                  mp_drawing.DrawingSpec(color=(245, 117, 66), thickness=2, circle_radius=2),\n",
    "                                  mp_drawing.DrawingSpec(color=(245, 66, 230), thickness=2, circle_radius=2))\n",
    "\n",
    "        # Show result\n",
    "        cv2.imshow('Curl Counter', image)\n",
    "\n",
    "        # Exit key\n",
    "        if cv2.waitKey(10) & 0xFF == ord('q'):\n",
    "            break\n",
    "\n",
    "cap.release()\n",
    "cv2.destroyAllWindows()\n",
    "\n",
    "# Save to file\n",
    "with open(\"curl_count.txt\", \"w\") as f:\n",
    "    f.write(f\"Total Curls: {counter}\\n\")"
   ]
  },
  {
   "cell_type": "code",
   "execution_count": null,
   "id": "5692d39d",
   "metadata": {},
   "outputs": [],
   "source": []
  }
 ],
 "metadata": {
  "kernelspec": {
   "display_name": "Python 3 (ipykernel)",
   "language": "python",
   "name": "python3"
  },
  "language_info": {
   "codemirror_mode": {
    "name": "ipython",
    "version": 3
   },
   "file_extension": ".py",
   "mimetype": "text/x-python",
   "name": "python",
   "nbconvert_exporter": "python",
   "pygments_lexer": "ipython3",
   "version": "3.11.4"
  }
 },
 "nbformat": 4,
 "nbformat_minor": 5
}
